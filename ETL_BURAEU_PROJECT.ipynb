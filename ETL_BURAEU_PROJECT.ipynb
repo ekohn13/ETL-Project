{
 "cells": [
  {
   "cell_type": "code",
   "execution_count": 1,
   "metadata": {},
   "outputs": [],
   "source": [
    "import pandas as pd \n",
    "import numpy as np\n",
    "from bs4 import BeautifulSoup\n",
    "import requests\n",
    "import warnings\n",
    "warnings.filterwarnings('ignore')\n",
    "import pymongo"
   ]
  },
  {
   "cell_type": "markdown",
   "metadata": {},
   "source": [
    "# Web Scrapping"
   ]
  },
  {
   "cell_type": "code",
   "execution_count": 73,
   "metadata": {},
   "outputs": [],
   "source": [
    "# URL of page to be scraped\n",
    "url = 'https://www.bls.gov/oes/current/oessrcst.htm#a'\n",
    "\n",
    "# Retrieve page with the requests module\n",
    "response = requests.get(url)\n",
    "# Create BeautifulSoup object; parse with 'html'\n",
    "soup = BeautifulSoup(response.text, 'html')"
   ]
  },
  {
   "cell_type": "code",
   "execution_count": 74,
   "metadata": {},
   "outputs": [],
   "source": [
    "results = soup.find_all('blockquote')"
   ]
  },
  {
   "cell_type": "code",
   "execution_count": 75,
   "metadata": {},
   "outputs": [
    {
     "data": {
      "text/plain": [
       "['https://www.bls.gov/oes/current/oes_al.htm',\n",
       " 'https://www.bls.gov/oes/current/oes_ca.htm',\n",
       " 'https://www.bls.gov/oes/current/oes_de.htm',\n",
       " 'https://www.bls.gov/oes/current/oes_fl.htm',\n",
       " 'https://www.bls.gov/oes/current/oes_ga.htm',\n",
       " 'https://www.bls.gov/oes/current/oes_hi.htm',\n",
       " 'https://www.bls.gov/oes/current/oes_id.htm',\n",
       " 'https://www.bls.gov/oes/current/oes_ks.htm',\n",
       " 'https://www.bls.gov/oes/current/oes_la.htm',\n",
       " 'https://www.bls.gov/oes/current/oes_me.htm',\n",
       " 'https://www.bls.gov/oes/current/oes_ne.htm',\n",
       " 'https://www.bls.gov/oes/current/oes_oh.htm',\n",
       " 'https://www.bls.gov/oes/current/oes_pa.htm',\n",
       " 'https://www.bls.gov/oes/current/oes_ri.htm',\n",
       " 'https://www.bls.gov/oes/current/oes_sc.htm',\n",
       " 'https://www.bls.gov/oes/current/oes_tn.htm',\n",
       " 'https://www.bls.gov/oes/current/oes_ut.htm',\n",
       " 'https://www.bls.gov/oes/current/oes_vt.htm',\n",
       " 'https://www.bls.gov/oes/current/oes_wa.htm']"
      ]
     },
     "execution_count": 75,
     "metadata": {},
     "output_type": "execute_result"
    }
   ],
   "source": [
    "list_links=[]\n",
    "for result in results:\n",
    "    link=result.a['href']\n",
    "    final_link = f'https://www.bls.gov/oes/current/{link}'\n",
    "    list_links.append(final_link)\n",
    "    \n",
    "list_links"
   ]
  },
  {
   "cell_type": "code",
   "execution_count": 76,
   "metadata": {},
   "outputs": [
    {
     "data": {
      "text/plain": [
       "['https://www.bls.gov/oes/current/oes_ca.htm',\n",
       " 'https://www.bls.gov/oes/current/oes_fl.htm',\n",
       " 'https://www.bls.gov/oes/current/oes_pa.htm']"
      ]
     },
     "execution_count": 76,
     "metadata": {},
     "output_type": "execute_result"
    }
   ],
   "source": [
    "#selecting 3 states\n",
    "ca_fl_pa_list = []\n",
    "for item in list_links:\n",
    "    if 'ca' in item or 'fl' in item or 'pa' in item:\n",
    "        ca_fl_pa_list.append(item)\n",
    "ca_fl_pa_list"
   ]
  },
  {
   "cell_type": "code",
   "execution_count": 77,
   "metadata": {},
   "outputs": [],
   "source": [
    "data_df= [pd.read_html(state) for state in ca_fl_pa_list]"
   ]
  },
  {
   "cell_type": "code",
   "execution_count": 78,
   "metadata": {},
   "outputs": [],
   "source": [
    "l=[]\n",
    "for i in range(len(data_df)):\n",
    "    l.append(data_df[i][0])"
   ]
  },
  {
   "cell_type": "markdown",
   "metadata": {},
   "source": [
    "# Cleaning the data"
   ]
  },
  {
   "cell_type": "code",
   "execution_count": 79,
   "metadata": {},
   "outputs": [],
   "source": [
    "\n",
    "cl_df=l[0]\n",
    "fl_df=l[1]\n",
    "pa_df=l[2]"
   ]
  },
  {
   "cell_type": "code",
   "execution_count": 80,
   "metadata": {},
   "outputs": [],
   "source": [
    "cl_df['state'] =  'CA'\n",
    "fl_df['state'] =  'FL' \n",
    "pa_df['state'] =  'PA' \n"
   ]
  },
  {
   "cell_type": "code",
   "execution_count": 81,
   "metadata": {},
   "outputs": [],
   "source": [
    "cl_fl=cl_df.append(fl_df)\n",
    "cl_fl_pa = cl_fl.append(pa_df)"
   ]
  },
  {
   "cell_type": "code",
   "execution_count": 82,
   "metadata": {},
   "outputs": [],
   "source": [
    "ocupations_cl_fl_pa =cl_fl_pa.loc[cl_fl_pa['Level']=='major',:]"
   ]
  },
  {
   "cell_type": "code",
   "execution_count": 83,
   "metadata": {},
   "outputs": [],
   "source": [
    "ocupations_cl_fl_pa.reset_index(inplace=True,drop=True)"
   ]
  },
  {
   "cell_type": "code",
   "execution_count": 84,
   "metadata": {},
   "outputs": [
    {
     "data": {
      "text/html": [
       "<div>\n",
       "<style scoped>\n",
       "    .dataframe tbody tr th:only-of-type {\n",
       "        vertical-align: middle;\n",
       "    }\n",
       "\n",
       "    .dataframe tbody tr th {\n",
       "        vertical-align: top;\n",
       "    }\n",
       "\n",
       "    .dataframe thead th {\n",
       "        text-align: right;\n",
       "    }\n",
       "</style>\n",
       "<table border=\"1\" class=\"dataframe\">\n",
       "  <thead>\n",
       "    <tr style=\"text-align: right;\">\n",
       "      <th></th>\n",
       "      <th>Occupation code</th>\n",
       "      <th>Occupation title (click on the occupation title to view its profile)</th>\n",
       "      <th>Level</th>\n",
       "      <th>Employment</th>\n",
       "      <th>Employment RSE</th>\n",
       "      <th>Employment per 1,000 jobs</th>\n",
       "      <th>Location quotient</th>\n",
       "      <th>Median hourly wage</th>\n",
       "      <th>Mean hourly wage</th>\n",
       "      <th>Annual mean wage</th>\n",
       "      <th>Mean wage RSE</th>\n",
       "      <th>state</th>\n",
       "    </tr>\n",
       "  </thead>\n",
       "  <tbody>\n",
       "    <tr>\n",
       "      <th>0</th>\n",
       "      <td>11-0000</td>\n",
       "      <td>Management Occupations</td>\n",
       "      <td>major</td>\n",
       "      <td>996830</td>\n",
       "      <td>0.6%</td>\n",
       "      <td>58.610</td>\n",
       "      <td>1.11</td>\n",
       "      <td>$57.43</td>\n",
       "      <td>$65.31</td>\n",
       "      <td>$135,840</td>\n",
       "      <td>0.4%</td>\n",
       "      <td>CA</td>\n",
       "    </tr>\n",
       "    <tr>\n",
       "      <th>1</th>\n",
       "      <td>13-0000</td>\n",
       "      <td>Business and Financial Operations Occupations</td>\n",
       "      <td>major</td>\n",
       "      <td>1021960</td>\n",
       "      <td>0.7%</td>\n",
       "      <td>60.088</td>\n",
       "      <td>1.13</td>\n",
       "      <td>$35.62</td>\n",
       "      <td>$40.05</td>\n",
       "      <td>$83,310</td>\n",
       "      <td>0.4%</td>\n",
       "      <td>CA</td>\n",
       "    </tr>\n",
       "    <tr>\n",
       "      <th>2</th>\n",
       "      <td>15-0000</td>\n",
       "      <td>Computer and Mathematical Occupations</td>\n",
       "      <td>major</td>\n",
       "      <td>616270</td>\n",
       "      <td>1.2%</td>\n",
       "      <td>36.235</td>\n",
       "      <td>1.20</td>\n",
       "      <td>$49.67</td>\n",
       "      <td>$52.01</td>\n",
       "      <td>$108,190</td>\n",
       "      <td>0.9%</td>\n",
       "      <td>CA</td>\n",
       "    </tr>\n",
       "    <tr>\n",
       "      <th>3</th>\n",
       "      <td>17-0000</td>\n",
       "      <td>Architecture and Engineering Occupations</td>\n",
       "      <td>major</td>\n",
       "      <td>337180</td>\n",
       "      <td>1.3%</td>\n",
       "      <td>19.825</td>\n",
       "      <td>1.12</td>\n",
       "      <td>$45.85</td>\n",
       "      <td>$48.46</td>\n",
       "      <td>$100,800</td>\n",
       "      <td>0.7%</td>\n",
       "      <td>CA</td>\n",
       "    </tr>\n",
       "    <tr>\n",
       "      <th>4</th>\n",
       "      <td>19-0000</td>\n",
       "      <td>Life, Physical, and Social Science Occupations</td>\n",
       "      <td>major</td>\n",
       "      <td>177450</td>\n",
       "      <td>2.5%</td>\n",
       "      <td>10.434</td>\n",
       "      <td>1.29</td>\n",
       "      <td>$38.18</td>\n",
       "      <td>$41.18</td>\n",
       "      <td>$85,640</td>\n",
       "      <td>1.2%</td>\n",
       "      <td>CA</td>\n",
       "    </tr>\n",
       "  </tbody>\n",
       "</table>\n",
       "</div>"
      ],
      "text/plain": [
       "  Occupation code  \\\n",
       "0         11-0000   \n",
       "1         13-0000   \n",
       "2         15-0000   \n",
       "3         17-0000   \n",
       "4         19-0000   \n",
       "\n",
       "  Occupation title (click on the occupation title to view its profile)  Level  \\\n",
       "0                             Management Occupations                    major   \n",
       "1      Business and Financial Operations Occupations                    major   \n",
       "2              Computer and Mathematical Occupations                    major   \n",
       "3           Architecture and Engineering Occupations                    major   \n",
       "4     Life, Physical, and Social Science Occupations                    major   \n",
       "\n",
       "  Employment Employment RSE Employment per 1,000 jobs Location quotient  \\\n",
       "0     996830           0.6%                    58.610              1.11   \n",
       "1    1021960           0.7%                    60.088              1.13   \n",
       "2     616270           1.2%                    36.235              1.20   \n",
       "3     337180           1.3%                    19.825              1.12   \n",
       "4     177450           2.5%                    10.434              1.29   \n",
       "\n",
       "  Median hourly wage Mean hourly wage Annual mean wage Mean wage RSE state  \n",
       "0             $57.43           $65.31         $135,840          0.4%    CA  \n",
       "1             $35.62           $40.05          $83,310          0.4%    CA  \n",
       "2             $49.67           $52.01         $108,190          0.9%    CA  \n",
       "3             $45.85           $48.46         $100,800          0.7%    CA  \n",
       "4             $38.18           $41.18          $85,640          1.2%    CA  "
      ]
     },
     "execution_count": 84,
     "metadata": {},
     "output_type": "execute_result"
    }
   ],
   "source": [
    "ocupations_cl_fl_pa.head()"
   ]
  },
  {
   "cell_type": "code",
   "execution_count": 85,
   "metadata": {},
   "outputs": [],
   "source": [
    "for col in ocupations_cl_fl_pa[['Employment','Employment RSE','Employment per 1,000 jobs','Median hourly wage','Mean wage RSE','Mean hourly wage','Annual mean wage']]:\n",
    "    ocupations_cl_fl_pa[col]=ocupations_cl_fl_pa[col].apply(lambda x: x.replace('$','').replace('(','').replace('%','').replace(')','').replace(',','')).astype(float)\n"
   ]
  },
  {
   "cell_type": "code",
   "execution_count": 86,
   "metadata": {},
   "outputs": [],
   "source": [
    "ocupations_cl_fl_pa['Occupation code'] = ocupations_cl_fl_pa['Occupation code'].apply(lambda x:x.replace('-','')).\\\n",
    "astype(int)"
   ]
  },
  {
   "cell_type": "markdown",
   "metadata": {},
   "source": [
    "# Uploading to MongoDB"
   ]
  },
  {
   "cell_type": "code",
   "execution_count": 88,
   "metadata": {},
   "outputs": [],
   "source": [
    "# create client\n",
    "client=pymongo.MongoClient('mongodb://localhost:27017')\n",
    "#create DB\n",
    "db = client.beareau_etl\n",
    "collection = db.ca_fl_pa"
   ]
  },
  {
   "cell_type": "code",
   "execution_count": 91,
   "metadata": {},
   "outputs": [],
   "source": [
    "#convert df to dict\n",
    "dict_to_upload = ocupations_cl_fl_pa.to_dict(orient='records')\n"
   ]
  },
  {
   "cell_type": "code",
   "execution_count": 92,
   "metadata": {
    "scrolled": true
   },
   "outputs": [
    {
     "data": {
      "text/plain": [
       "[ObjectId('5e1cfff3aa46595943b507d1'),\n",
       " ObjectId('5e1cfff3aa46595943b507d2'),\n",
       " ObjectId('5e1cfff3aa46595943b507d3'),\n",
       " ObjectId('5e1cfff3aa46595943b507d4'),\n",
       " ObjectId('5e1cfff3aa46595943b507d5'),\n",
       " ObjectId('5e1cfff3aa46595943b507d6'),\n",
       " ObjectId('5e1cfff3aa46595943b507d7'),\n",
       " ObjectId('5e1cfff3aa46595943b507d8'),\n",
       " ObjectId('5e1cfff3aa46595943b507d9'),\n",
       " ObjectId('5e1cfff3aa46595943b507da'),\n",
       " ObjectId('5e1cfff3aa46595943b507db'),\n",
       " ObjectId('5e1cfff3aa46595943b507dc'),\n",
       " ObjectId('5e1cfff3aa46595943b507dd'),\n",
       " ObjectId('5e1cfff3aa46595943b507de'),\n",
       " ObjectId('5e1cfff3aa46595943b507df'),\n",
       " ObjectId('5e1cfff3aa46595943b507e0'),\n",
       " ObjectId('5e1cfff3aa46595943b507e1'),\n",
       " ObjectId('5e1cfff3aa46595943b507e2'),\n",
       " ObjectId('5e1cfff3aa46595943b507e3'),\n",
       " ObjectId('5e1cfff3aa46595943b507e4'),\n",
       " ObjectId('5e1cfff3aa46595943b507e5'),\n",
       " ObjectId('5e1cfff3aa46595943b507e6'),\n",
       " ObjectId('5e1cfff3aa46595943b507e7'),\n",
       " ObjectId('5e1cfff3aa46595943b507e8'),\n",
       " ObjectId('5e1cfff3aa46595943b507e9'),\n",
       " ObjectId('5e1cfff3aa46595943b507ea'),\n",
       " ObjectId('5e1cfff3aa46595943b507eb'),\n",
       " ObjectId('5e1cfff3aa46595943b507ec'),\n",
       " ObjectId('5e1cfff3aa46595943b507ed'),\n",
       " ObjectId('5e1cfff3aa46595943b507ee'),\n",
       " ObjectId('5e1cfff3aa46595943b507ef'),\n",
       " ObjectId('5e1cfff3aa46595943b507f0'),\n",
       " ObjectId('5e1cfff3aa46595943b507f1'),\n",
       " ObjectId('5e1cfff3aa46595943b507f2'),\n",
       " ObjectId('5e1cfff3aa46595943b507f3'),\n",
       " ObjectId('5e1cfff3aa46595943b507f4'),\n",
       " ObjectId('5e1cfff3aa46595943b507f5'),\n",
       " ObjectId('5e1cfff3aa46595943b507f6'),\n",
       " ObjectId('5e1cfff3aa46595943b507f7'),\n",
       " ObjectId('5e1cfff3aa46595943b507f8'),\n",
       " ObjectId('5e1cfff3aa46595943b507f9'),\n",
       " ObjectId('5e1cfff3aa46595943b507fa'),\n",
       " ObjectId('5e1cfff3aa46595943b507fb'),\n",
       " ObjectId('5e1cfff3aa46595943b507fc'),\n",
       " ObjectId('5e1cfff3aa46595943b507fd'),\n",
       " ObjectId('5e1cfff3aa46595943b507fe'),\n",
       " ObjectId('5e1cfff3aa46595943b507ff'),\n",
       " ObjectId('5e1cfff3aa46595943b50800'),\n",
       " ObjectId('5e1cfff3aa46595943b50801'),\n",
       " ObjectId('5e1cfff3aa46595943b50802'),\n",
       " ObjectId('5e1cfff3aa46595943b50803'),\n",
       " ObjectId('5e1cfff3aa46595943b50804'),\n",
       " ObjectId('5e1cfff3aa46595943b50805'),\n",
       " ObjectId('5e1cfff3aa46595943b50806'),\n",
       " ObjectId('5e1cfff3aa46595943b50807'),\n",
       " ObjectId('5e1cfff3aa46595943b50808'),\n",
       " ObjectId('5e1cfff3aa46595943b50809'),\n",
       " ObjectId('5e1cfff3aa46595943b5080a'),\n",
       " ObjectId('5e1cfff3aa46595943b5080b'),\n",
       " ObjectId('5e1cfff3aa46595943b5080c'),\n",
       " ObjectId('5e1cfff3aa46595943b5080d'),\n",
       " ObjectId('5e1cfff3aa46595943b5080e'),\n",
       " ObjectId('5e1cfff3aa46595943b5080f'),\n",
       " ObjectId('5e1cfff3aa46595943b50810'),\n",
       " ObjectId('5e1cfff3aa46595943b50811'),\n",
       " ObjectId('5e1cfff3aa46595943b50812')]"
      ]
     },
     "execution_count": 92,
     "metadata": {},
     "output_type": "execute_result"
    }
   ],
   "source": [
    "db.ca_fl.pa.insert(dict_to_upload)"
   ]
  },
  {
   "cell_type": "code",
   "execution_count": 97,
   "metadata": {},
   "outputs": [],
   "source": [
    "listings=db.ca_fl.pa.find()"
   ]
  },
  {
   "cell_type": "code",
   "execution_count": 98,
   "metadata": {},
   "outputs": [
    {
     "name": "stdout",
     "output_type": "stream",
     "text": [
      "{'_id': ObjectId('5e1cfff3aa46595943b507d1'), 'Occupation code': 110000, 'Occupation title (click on the occupation title to view its profile)': 'Management Occupations', 'Level': 'major', 'Employment': 996830.0, 'Employment RSE': 0.6, 'Employment per 1,000 jobs': 58.61, 'Location quotient': '1.11', 'Median hourly wage': 57.43, 'Mean hourly wage': 65.31, 'Annual mean wage': 135840.0, 'Mean wage RSE': 0.4, 'state': 'CA'}\n",
      "{'_id': ObjectId('5e1cfff3aa46595943b507d2'), 'Occupation code': 130000, 'Occupation title (click on the occupation title to view its profile)': 'Business and Financial Operations Occupations', 'Level': 'major', 'Employment': 1021960.0, 'Employment RSE': 0.7, 'Employment per 1,000 jobs': 60.088, 'Location quotient': '1.13', 'Median hourly wage': 35.62, 'Mean hourly wage': 40.05, 'Annual mean wage': 83310.0, 'Mean wage RSE': 0.4, 'state': 'CA'}\n",
      "{'_id': ObjectId('5e1cfff3aa46595943b507d3'), 'Occupation code': 150000, 'Occupation title (click on the occupation title to view its profile)': 'Computer and Mathematical Occupations', 'Level': 'major', 'Employment': 616270.0, 'Employment RSE': 1.2, 'Employment per 1,000 jobs': 36.235, 'Location quotient': '1.20', 'Median hourly wage': 49.67, 'Mean hourly wage': 52.01, 'Annual mean wage': 108190.0, 'Mean wage RSE': 0.9, 'state': 'CA'}\n",
      "{'_id': ObjectId('5e1cfff3aa46595943b507d4'), 'Occupation code': 170000, 'Occupation title (click on the occupation title to view its profile)': 'Architecture and Engineering Occupations', 'Level': 'major', 'Employment': 337180.0, 'Employment RSE': 1.3, 'Employment per 1,000 jobs': 19.825, 'Location quotient': '1.12', 'Median hourly wage': 45.85, 'Mean hourly wage': 48.46, 'Annual mean wage': 100800.0, 'Mean wage RSE': 0.7, 'state': 'CA'}\n",
      "{'_id': ObjectId('5e1cfff3aa46595943b507d5'), 'Occupation code': 190000, 'Occupation title (click on the occupation title to view its profile)': 'Life, Physical, and Social Science Occupations', 'Level': 'major', 'Employment': 177450.0, 'Employment RSE': 2.5, 'Employment per 1,000 jobs': 10.434, 'Location quotient': '1.29', 'Median hourly wage': 38.18, 'Mean hourly wage': 41.18, 'Annual mean wage': 85640.0, 'Mean wage RSE': 1.2, 'state': 'CA'}\n",
      "{'_id': ObjectId('5e1cfff3aa46595943b507d6'), 'Occupation code': 210000, 'Occupation title (click on the occupation title to view its profile)': 'Community and Social Service Occupations', 'Level': 'major', 'Employment': 282230.0, 'Employment RSE': 1.8, 'Employment per 1,000 jobs': 16.594, 'Location quotient': '1.11', 'Median hourly wage': 24.77, 'Mean hourly wage': 27.94, 'Annual mean wage': 58120.0, 'Mean wage RSE': 2.0, 'state': 'CA'}\n",
      "{'_id': ObjectId('5e1cfff3aa46595943b507d7'), 'Occupation code': 230000, 'Occupation title (click on the occupation title to view its profile)': 'Legal Occupations', 'Level': 'major', 'Employment': 135520.0, 'Employment RSE': 1.3, 'Employment per 1,000 jobs': 7.968, 'Location quotient': '1.02', 'Median hourly wage': 48.74, 'Mean hourly wage': 62.77, 'Annual mean wage': 130560.0, 'Mean wage RSE': 2.0, 'state': 'CA'}\n",
      "{'_id': ObjectId('5e1cfff3aa46595943b507d8'), 'Occupation code': 250000, 'Occupation title (click on the occupation title to view its profile)': 'Education, Training, and Library Occupations', 'Level': 'major', 'Employment': 1028190.0, 'Employment RSE': 0.7, 'Employment per 1,000 jobs': 60.454, 'Location quotient': '1.00', 'Median hourly wage': 27.12, 'Mean hourly wage': 31.76, 'Annual mean wage': 66050.0, 'Mean wage RSE': 1.1, 'state': 'CA'}\n",
      "{'_id': ObjectId('5e1cfff3aa46595943b507d9'), 'Occupation code': 270000, 'Occupation title (click on the occupation title to view its profile)': 'Arts, Design, Entertainment, Sports, and Media Occupations', 'Level': 'major', 'Employment': 307070.0, 'Employment RSE': 1.4, 'Employment per 1,000 jobs': 18.055, 'Location quotient': '1.34', 'Median hourly wage': 28.39, 'Mean hourly wage': 34.97, 'Annual mean wage': 72750.0, 'Mean wage RSE': 1.4, 'state': 'CA'}\n",
      "{'_id': ObjectId('5e1cfff3aa46595943b507da'), 'Occupation code': 290000, 'Occupation title (click on the occupation title to view its profile)': 'Healthcare Practitioners and Technical Occupations', 'Level': 'major', 'Employment': 838440.0, 'Employment RSE': 0.9, 'Employment per 1,000 jobs': 49.298, 'Location quotient': '0.83', 'Median hourly wage': 42.61, 'Mean hourly wage': 47.55, 'Annual mean wage': 98910.0, 'Mean wage RSE': 0.7, 'state': 'CA'}\n",
      "{'_id': ObjectId('5e1cfff3aa46595943b507db'), 'Occupation code': 310000, 'Occupation title (click on the occupation title to view its profile)': 'Healthcare Support Occupations', 'Level': 'major', 'Employment': 364220.0, 'Employment RSE': 1.4, 'Employment per 1,000 jobs': 21.415, 'Location quotient': '0.75', 'Median hourly wage': 17.06, 'Mean hourly wage': 18.46, 'Annual mean wage': 38390.0, 'Mean wage RSE': 0.6, 'state': 'CA'}\n",
      "{'_id': ObjectId('5e1cfff3aa46595943b507dc'), 'Occupation code': 330000, 'Occupation title (click on the occupation title to view its profile)': 'Protective Service Occupations', 'Level': 'major', 'Employment': 386370.0, 'Employment RSE': 1.3, 'Employment per 1,000 jobs': 22.717, 'Location quotient': '0.96', 'Median hourly wage': 22.5, 'Mean hourly wage': 29.4, 'Annual mean wage': 61150.0, 'Mean wage RSE': 4.0, 'state': 'CA'}\n",
      "{'_id': ObjectId('5e1cfff3aa46595943b507dd'), 'Occupation code': 350000, 'Occupation title (click on the occupation title to view its profile)': 'Food Preparation and Serving Related Occupations', 'Level': 'major', 'Employment': 1594570.0, 'Employment RSE': 0.4, 'Employment per 1,000 jobs': 93.756, 'Location quotient': '1.01', 'Median hourly wage': 12.21, 'Mean hourly wage': 13.91, 'Annual mean wage': 28930.0, 'Mean wage RSE': 0.4, 'state': 'CA'}\n",
      "{'_id': ObjectId('5e1cfff3aa46595943b507de'), 'Occupation code': 370000, 'Occupation title (click on the occupation title to view its profile)': 'Building and Grounds Cleaning and Maintenance Occupations', 'Level': 'major', 'Employment': 481580.0, 'Employment RSE': 0.9, 'Employment per 1,000 jobs': 28.315, 'Location quotient': '0.93', 'Median hourly wage': 14.75, 'Mean hourly wage': 16.6, 'Annual mean wage': 34530.0, 'Mean wage RSE': 0.5, 'state': 'CA'}\n",
      "{'_id': ObjectId('5e1cfff3aa46595943b507df'), 'Occupation code': 390000, 'Occupation title (click on the occupation title to view its profile)': 'Personal Care and Service Occupations', 'Level': 'major', 'Employment': 953830.0, 'Employment RSE': 1.0, 'Employment per 1,000 jobs': 56.083, 'Location quotient': '1.49', 'Median hourly wage': 12.1, 'Mean hourly wage': 14.3, 'Annual mean wage': 29750.0, 'Mean wage RSE': 0.8, 'state': 'CA'}\n",
      "{'_id': ObjectId('5e1cfff3aa46595943b507e0'), 'Occupation code': 410000, 'Occupation title (click on the occupation title to view its profile)': 'Sales and Related Occupations', 'Level': 'major', 'Employment': 1634110.0, 'Employment RSE': 0.7, 'Employment per 1,000 jobs': 96.08, 'Location quotient': '0.96', 'Median hourly wage': 15.0, 'Mean hourly wage': 21.67, 'Annual mean wage': 45070.0, 'Mean wage RSE': 0.6, 'state': 'CA'}\n",
      "{'_id': ObjectId('5e1cfff3aa46595943b507e1'), 'Occupation code': 430000, 'Occupation title (click on the occupation title to view its profile)': 'Office and Administrative Support Occupations', 'Level': 'major', 'Employment': 2438780.0, 'Employment RSE': 0.6, 'Employment per 1,000 jobs': 143.393, 'Location quotient': '0.95', 'Median hourly wage': 18.92, 'Mean hourly wage': 20.79, 'Annual mean wage': 43240.0, 'Mean wage RSE': 0.3, 'state': 'CA'}\n",
      "{'_id': ObjectId('5e1cfff3aa46595943b507e2'), 'Occupation code': 450000, 'Occupation title (click on the occupation title to view its profile)': 'Farming, Fishing, and Forestry Occupations', 'Level': 'major', 'Employment': 227470.0, 'Employment RSE': 2.3, 'Employment per 1,000 jobs': 13.374, 'Location quotient': '4.03', 'Median hourly wage': 11.75, 'Mean hourly wage': 13.23, 'Annual mean wage': 27520.0, 'Mean wage RSE': 0.7, 'state': 'CA'}\n",
      "{'_id': ObjectId('5e1cfff3aa46595943b507e3'), 'Occupation code': 470000, 'Occupation title (click on the occupation title to view its profile)': 'Construction and Extraction Occupations', 'Level': 'major', 'Employment': 658360.0, 'Employment RSE': 0.8, 'Employment per 1,000 jobs': 38.71, 'Location quotient': '0.94', 'Median hourly wage': 26.56, 'Mean hourly wage': 28.67, 'Annual mean wage': 59630.0, 'Mean wage RSE': 0.5, 'state': 'CA'}\n",
      "{'_id': ObjectId('5e1cfff3aa46595943b507e4'), 'Occupation code': 490000, 'Occupation title (click on the occupation title to view its profile)': 'Installation, Maintenance, and Repair Occupations', 'Level': 'major', 'Employment': 530320.0, 'Employment RSE': 1.0, 'Employment per 1,000 jobs': 31.181, 'Location quotient': '0.80', 'Median hourly wage': 24.2, 'Mean hourly wage': 26.13, 'Annual mean wage': 54360.0, 'Mean wage RSE': 0.4, 'state': 'CA'}\n",
      "{'_id': ObjectId('5e1cfff3aa46595943b507e5'), 'Occupation code': 510000, 'Occupation title (click on the occupation title to view its profile)': 'Production Occupations', 'Level': 'major', 'Employment': 836260.0, 'Employment RSE': 1.4, 'Employment per 1,000 jobs': 49.169, 'Location quotient': '0.78', 'Median hourly wage': 16.44, 'Mean hourly wage': 19.38, 'Annual mean wage': 40320.0, 'Mean wage RSE': 0.5, 'state': 'CA'}\n",
      "{'_id': ObjectId('5e1cfff3aa46595943b507e6'), 'Occupation code': 530000, 'Occupation title (click on the occupation title to view its profile)': 'Transportation and Material Moving Occupations', 'Level': 'major', 'Employment': 1160680.0, 'Employment RSE': 1.1, 'Employment per 1,000 jobs': 68.244, 'Location quotient': '0.96', 'Median hourly wage': 15.74, 'Mean hourly wage': 19.01, 'Annual mean wage': 39530.0, 'Mean wage RSE': 1.1, 'state': 'CA'}\n",
      "{'_id': ObjectId('5e1cfff3aa46595943b507e7'), 'Occupation code': 110000, 'Occupation title (click on the occupation title to view its profile)': 'Management Occupations', 'Level': 'major', 'Employment': 400230.0, 'Employment RSE': 0.9, 'Employment per 1,000 jobs': 46.491, 'Location quotient': '0.88', 'Median hourly wage': 43.76, 'Mean hourly wage': 52.58, 'Annual mean wage': 109360.0, 'Mean wage RSE': 0.5, 'state': 'FL'}\n",
      "{'_id': ObjectId('5e1cfff3aa46595943b507e8'), 'Occupation code': 130000, 'Occupation title (click on the occupation title to view its profile)': 'Business and Financial Operations Occupations', 'Level': 'major', 'Employment': 460150.0, 'Employment RSE': 1.0, 'Employment per 1,000 jobs': 53.452, 'Location quotient': '1.00', 'Median hourly wage': 28.77, 'Mean hourly wage': 32.96, 'Annual mean wage': 68560.0, 'Mean wage RSE': 0.5, 'state': 'FL'}\n",
      "{'_id': ObjectId('5e1cfff3aa46595943b507e9'), 'Occupation code': 150000, 'Occupation title (click on the occupation title to view its profile)': 'Computer and Mathematical Occupations', 'Level': 'major', 'Employment': 206930.0, 'Employment RSE': 1.6, 'Employment per 1,000 jobs': 24.038, 'Location quotient': '0.79', 'Median hourly wage': 35.35, 'Mean hourly wage': 37.87, 'Annual mean wage': 78780.0, 'Mean wage RSE': 0.7, 'state': 'FL'}\n",
      "{'_id': ObjectId('5e1cfff3aa46595943b507ea'), 'Occupation code': 170000, 'Occupation title (click on the occupation title to view its profile)': 'Architecture and Engineering Occupations', 'Level': 'major', 'Employment': 106320.0, 'Employment RSE': 1.4, 'Employment per 1,000 jobs': 12.35, 'Location quotient': '0.70', 'Median hourly wage': 33.33, 'Mean hourly wage': 36.23, 'Annual mean wage': 75360.0, 'Mean wage RSE': 0.8, 'state': 'FL'}\n",
      "{'_id': ObjectId('5e1cfff3aa46595943b507eb'), 'Occupation code': 190000, 'Occupation title (click on the occupation title to view its profile)': 'Life, Physical, and Social Science Occupations', 'Level': 'major', 'Employment': 40130.0, 'Employment RSE': 2.5, 'Employment per 1,000 jobs': 4.662, 'Location quotient': '0.58', 'Median hourly wage': 27.66, 'Mean hourly wage': 31.38, 'Annual mean wage': 65270.0, 'Mean wage RSE': 1.3, 'state': 'FL'}\n",
      "{'_id': ObjectId('5e1cfff3aa46595943b507ec'), 'Occupation code': 210000, 'Occupation title (click on the occupation title to view its profile)': 'Community and Social Service Occupations', 'Level': 'major', 'Employment': 101550.0, 'Employment RSE': 2.8, 'Employment per 1,000 jobs': 11.796, 'Location quotient': '0.79', 'Median hourly wage': 19.19, 'Mean hourly wage': 21.37, 'Annual mean wage': 44450.0, 'Mean wage RSE': 1.0, 'state': 'FL'}\n",
      "{'_id': ObjectId('5e1cfff3aa46595943b507ed'), 'Occupation code': 230000, 'Occupation title (click on the occupation title to view its profile)': 'Legal Occupations', 'Level': 'major', 'Employment': 88420.0, 'Employment RSE': 1.7, 'Employment per 1,000 jobs': 10.271, 'Location quotient': '1.32', 'Median hourly wage': 31.71, 'Mean hourly wage': 45.54, 'Annual mean wage': 94720.0, 'Mean wage RSE': 2.1, 'state': 'FL'}\n",
      "{'_id': ObjectId('5e1cfff3aa46595943b507ee'), 'Occupation code': 250000, 'Occupation title (click on the occupation title to view its profile)': 'Education, Training, and Library Occupations', 'Level': 'major', 'Employment': 431690.0, 'Employment RSE': 5.8, 'Employment per 1,000 jobs': 50.146, 'Location quotient': '0.83', 'Median hourly wage': 22.1, 'Mean hourly wage': 23.45, 'Annual mean wage': 48770.0, 'Mean wage RSE': 1.6, 'state': 'FL'}\n",
      "{'_id': ObjectId('5e1cfff3aa46595943b507ef'), 'Occupation code': 270000, 'Occupation title (click on the occupation title to view its profile)': 'Arts, Design, Entertainment, Sports, and Media Occupations', 'Level': 'major', 'Employment': 105100.0, 'Employment RSE': 3.7, 'Employment per 1,000 jobs': 12.208, 'Location quotient': '0.91', 'Median hourly wage': 21.03, 'Mean hourly wage': 24.83, 'Annual mean wage': 51650.0, 'Mean wage RSE': 1.1, 'state': 'FL'}\n",
      "{'_id': ObjectId('5e1cfff3aa46595943b507f0'), 'Occupation code': 290000, 'Occupation title (click on the occupation title to view its profile)': 'Healthcare Practitioners and Technical Occupations', 'Level': 'major', 'Employment': 532310.0, 'Employment RSE': 1.2, 'Employment per 1,000 jobs': 61.834, 'Location quotient': '1.04', 'Median hourly wage': 29.05, 'Mean hourly wage': 36.38, 'Annual mean wage': 75680.0, 'Mean wage RSE': 0.9, 'state': 'FL'}\n",
      "{'_id': ObjectId('5e1cfff3aa46595943b507f1'), 'Occupation code': 310000, 'Occupation title (click on the occupation title to view its profile)': 'Healthcare Support Occupations', 'Level': 'major', 'Employment': 252750.0, 'Employment RSE': 1.5, 'Employment per 1,000 jobs': 29.36, 'Location quotient': '1.03', 'Median hourly wage': 13.81, 'Mean hourly wage': 15.12, 'Annual mean wage': 31440.0, 'Mean wage RSE': 0.6, 'state': 'FL'}\n",
      "{'_id': ObjectId('5e1cfff3aa46595943b507f2'), 'Occupation code': 330000, 'Occupation title (click on the occupation title to view its profile)': 'Protective Service Occupations', 'Level': 'major', 'Employment': 235400.0, 'Employment RSE': 1.5, 'Employment per 1,000 jobs': 27.344, 'Location quotient': '1.15', 'Median hourly wage': 17.68, 'Mean hourly wage': 20.82, 'Annual mean wage': 43310.0, 'Mean wage RSE': 1.8, 'state': 'FL'}\n",
      "{'_id': ObjectId('5e1cfff3aa46595943b507f3'), 'Occupation code': 350000, 'Occupation title (click on the occupation title to view its profile)': 'Food Preparation and Serving Related Occupations', 'Level': 'major', 'Employment': 933780.0, 'Employment RSE': 0.7, 'Employment per 1,000 jobs': 108.47, 'Location quotient': '1.17', 'Median hourly wage': 10.16, 'Mean hourly wage': 12.25, 'Annual mean wage': 25470.0, 'Mean wage RSE': 0.5, 'state': 'FL'}\n",
      "{'_id': ObjectId('5e1cfff3aa46595943b507f4'), 'Occupation code': 370000, 'Occupation title (click on the occupation title to view its profile)': 'Building and Grounds Cleaning and Maintenance Occupations', 'Level': 'major', 'Employment': 329130.0, 'Employment RSE': 1.3, 'Employment per 1,000 jobs': 38.232, 'Location quotient': '1.25', 'Median hourly wage': 11.63, 'Mean hourly wage': 13.01, 'Annual mean wage': 27060.0, 'Mean wage RSE': 0.6, 'state': 'FL'}\n",
      "{'_id': ObjectId('5e1cfff3aa46595943b507f5'), 'Occupation code': 390000, 'Occupation title (click on the occupation title to view its profile)': 'Personal Care and Service Occupations', 'Level': 'major', 'Employment': 249900.0, 'Employment RSE': 4.5, 'Employment per 1,000 jobs': 29.029, 'Location quotient': '0.77', 'Median hourly wage': 11.13, 'Mean hourly wage': 13.31, 'Annual mean wage': 27680.0, 'Mean wage RSE': 0.7, 'state': 'FL'}\n",
      "{'_id': ObjectId('5e1cfff3aa46595943b507f6'), 'Occupation code': 410000, 'Occupation title (click on the occupation title to view its profile)': 'Sales and Related Occupations', 'Level': 'major', 'Employment': 1058680.0, 'Employment RSE': 0.9, 'Employment per 1,000 jobs': 122.979, 'Location quotient': '1.22', 'Median hourly wage': 12.65, 'Mean hourly wage': 18.59, 'Annual mean wage': 38660.0, 'Mean wage RSE': 0.7, 'state': 'FL'}\n",
      "{'_id': ObjectId('5e1cfff3aa46595943b507f7'), 'Occupation code': 430000, 'Occupation title (click on the occupation title to view its profile)': 'Office and Administrative Support Occupations', 'Level': 'major', 'Employment': 1452150.0, 'Employment RSE': 0.6, 'Employment per 1,000 jobs': 168.685, 'Location quotient': '1.12', 'Median hourly wage': 15.75, 'Mean hourly wage': 17.39, 'Annual mean wage': 36170.0, 'Mean wage RSE': 0.2, 'state': 'FL'}\n",
      "{'_id': ObjectId('5e1cfff3aa46595943b507f8'), 'Occupation code': 450000, 'Occupation title (click on the occupation title to view its profile)': 'Farming, Fishing, and Forestry Occupations', 'Level': 'major', 'Employment': 18420.0, 'Employment RSE': 6.1, 'Employment per 1,000 jobs': 2.14, 'Location quotient': '0.65', 'Median hourly wage': 11.44, 'Mean hourly wage': 14.11, 'Annual mean wage': 29350.0, 'Mean wage RSE': 4.7, 'state': 'FL'}\n",
      "{'_id': ObjectId('5e1cfff3aa46595943b507f9'), 'Occupation code': 470000, 'Occupation title (click on the occupation title to view its profile)': 'Construction and Extraction Occupations', 'Level': 'major', 'Employment': 393030.0, 'Employment RSE': 1.0, 'Employment per 1,000 jobs': 45.656, 'Location quotient': '1.11', 'Median hourly wage': 17.96, 'Mean hourly wage': 19.69, 'Annual mean wage': 40940.0, 'Mean wage RSE': 0.4, 'state': 'FL'}\n",
      "{'_id': ObjectId('5e1cfff3aa46595943b507fa'), 'Occupation code': 490000, 'Occupation title (click on the occupation title to view its profile)': 'Installation, Maintenance, and Repair Occupations', 'Level': 'major', 'Employment': 359250.0, 'Employment RSE': 1.1, 'Employment per 1,000 jobs': 41.732, 'Location quotient': '1.07', 'Median hourly wage': 18.93, 'Mean hourly wage': 20.84, 'Annual mean wage': 43340.0, 'Mean wage RSE': 0.5, 'state': 'FL'}\n",
      "{'_id': ObjectId('5e1cfff3aa46595943b507fb'), 'Occupation code': 510000, 'Occupation title (click on the occupation title to view its profile)': 'Production Occupations', 'Level': 'major', 'Employment': 308970.0, 'Employment RSE': 1.2, 'Employment per 1,000 jobs': 35.891, 'Location quotient': '0.57', 'Median hourly wage': 14.99, 'Mean hourly wage': 17.0, 'Annual mean wage': 35360.0, 'Mean wage RSE': 0.5, 'state': 'FL'}\n",
      "{'_id': ObjectId('5e1cfff3aa46595943b507fc'), 'Occupation code': 530000, 'Occupation title (click on the occupation title to view its profile)': 'Transportation and Material Moving Occupations', 'Level': 'major', 'Employment': 544380.0, 'Employment RSE': 1.1, 'Employment per 1,000 jobs': 63.236, 'Location quotient': '0.89', 'Median hourly wage': 14.19, 'Mean hourly wage': 17.6, 'Annual mean wage': 36600.0, 'Mean wage RSE': 2.5, 'state': 'FL'}\n",
      "{'_id': ObjectId('5e1cfff3aa46595943b507fd'), 'Occupation code': 110000, 'Occupation title (click on the occupation title to view its profile)': 'Management Occupations', 'Level': 'major', 'Employment': 253290.0, 'Employment RSE': 1.1, 'Employment per 1,000 jobs': 43.315, 'Location quotient': '0.82', 'Median hourly wage': 52.6, 'Mean hourly wage': 60.48, 'Annual mean wage': 125800.0, 'Mean wage RSE': 0.5, 'state': 'PA'}\n",
      "{'_id': ObjectId('5e1cfff3aa46595943b507fe'), 'Occupation code': 130000, 'Occupation title (click on the occupation title to view its profile)': 'Business and Financial Operations Occupations', 'Level': 'major', 'Employment': 282660.0, 'Employment RSE': 1.0, 'Employment per 1,000 jobs': 48.338, 'Location quotient': '0.91', 'Median hourly wage': 32.44, 'Mean hourly wage': 35.96, 'Annual mean wage': 74800.0, 'Mean wage RSE': 0.5, 'state': 'PA'}\n",
      "{'_id': ObjectId('5e1cfff3aa46595943b507ff'), 'Occupation code': 150000, 'Occupation title (click on the occupation title to view its profile)': 'Computer and Mathematical Occupations', 'Level': 'major', 'Employment': 158420.0, 'Employment RSE': 2.4, 'Employment per 1,000 jobs': 27.091, 'Location quotient': '0.89', 'Median hourly wage': 38.64, 'Mean hourly wage': 40.77, 'Annual mean wage': 84800.0, 'Mean wage RSE': 0.7, 'state': 'PA'}\n",
      "{'_id': ObjectId('5e1cfff3aa46595943b50800'), 'Occupation code': 170000, 'Occupation title (click on the occupation title to view its profile)': 'Architecture and Engineering Occupations', 'Level': 'major', 'Employment': 104660.0, 'Employment RSE': 2.0, 'Employment per 1,000 jobs': 17.897, 'Location quotient': '1.01', 'Median hourly wage': 36.06, 'Mean hourly wage': 38.48, 'Annual mean wage': 80040.0, 'Mean wage RSE': 0.8, 'state': 'PA'}\n",
      "{'_id': ObjectId('5e1cfff3aa46595943b50801'), 'Occupation code': 190000, 'Occupation title (click on the occupation title to view its profile)': 'Life, Physical, and Social Science Occupations', 'Level': 'major', 'Employment': 45730.0, 'Employment RSE': 4.0, 'Employment per 1,000 jobs': 7.82, 'Location quotient': '0.97', 'Median hourly wage': 32.1, 'Mean hourly wage': 36.98, 'Annual mean wage': 76930.0, 'Mean wage RSE': 2.1, 'state': 'PA'}\n",
      "{'_id': ObjectId('5e1cfff3aa46595943b50802'), 'Occupation code': 210000, 'Occupation title (click on the occupation title to view its profile)': 'Community and Social Service Occupations', 'Level': 'major', 'Employment': 107970.0, 'Employment RSE': 1.9, 'Employment per 1,000 jobs': 18.463, 'Location quotient': '1.23', 'Median hourly wage': 19.99, 'Mean hourly wage': 21.84, 'Annual mean wage': 45440.0, 'Mean wage RSE': 0.7, 'state': 'PA'}\n",
      "{'_id': ObjectId('5e1cfff3aa46595943b50803'), 'Occupation code': 230000, 'Occupation title (click on the occupation title to view its profile)': 'Legal Occupations', 'Level': 'major', 'Employment': 43560.0, 'Employment RSE': 2.4, 'Employment per 1,000 jobs': 7.45, 'Location quotient': '0.96', 'Median hourly wage': 35.36, 'Mean hourly wage': 49.4, 'Annual mean wage': 102750.0, 'Mean wage RSE': 2.5, 'state': 'PA'}\n",
      "{'_id': ObjectId('5e1cfff3aa46595943b50804'), 'Occupation code': 250000, 'Occupation title (click on the occupation title to view its profile)': 'Education, Training, and Library Occupations', 'Level': 'major', 'Employment': 337680.0, 'Employment RSE': 1.5, 'Employment per 1,000 jobs': 57.746, 'Location quotient': '0.95', 'Median hourly wage': 26.15, 'Mean hourly wage': 28.78, 'Annual mean wage': 59870.0, 'Mean wage RSE': 1.9, 'state': 'PA'}\n",
      "{'_id': ObjectId('5e1cfff3aa46595943b50805'), 'Occupation code': 270000, 'Occupation title (click on the occupation title to view its profile)': 'Arts, Design, Entertainment, Sports, and Media Occupations', 'Level': 'major', 'Employment': 60770.0, 'Employment RSE': 3.0, 'Employment per 1,000 jobs': 10.392, 'Location quotient': '0.77', 'Median hourly wage': 21.44, 'Mean hourly wage': 24.56, 'Annual mean wage': 51080.0, 'Mean wage RSE': 1.5, 'state': 'PA'}\n",
      "{'_id': ObjectId('5e1cfff3aa46595943b50806'), 'Occupation code': 290000, 'Occupation title (click on the occupation title to view its profile)': 'Healthcare Practitioners and Technical Occupations', 'Level': 'major', 'Employment': 408340.0, 'Employment RSE': 1.1, 'Employment per 1,000 jobs': 69.829, 'Location quotient': '1.17', 'Median hourly wage': 30.43, 'Mean hourly wage': 36.47, 'Annual mean wage': 75860.0, 'Mean wage RSE': 0.9, 'state': 'PA'}\n",
      "{'_id': ObjectId('5e1cfff3aa46595943b50807'), 'Occupation code': 310000, 'Occupation title (click on the occupation title to view its profile)': 'Healthcare Support Occupations', 'Level': 'major', 'Employment': 186460.0, 'Employment RSE': 1.7, 'Employment per 1,000 jobs': 31.886, 'Location quotient': '1.12', 'Median hourly wage': 14.45, 'Mean hourly wage': 15.34, 'Annual mean wage': 31910.0, 'Mean wage RSE': 0.6, 'state': 'PA'}\n",
      "{'_id': ObjectId('5e1cfff3aa46595943b50808'), 'Occupation code': 330000, 'Occupation title (click on the occupation title to view its profile)': 'Protective Service Occupations', 'Level': 'major', 'Employment': 129090.0, 'Employment RSE': 1.8, 'Employment per 1,000 jobs': 22.075, 'Location quotient': '0.93', 'Median hourly wage': 18.73, 'Mean hourly wage': 22.05, 'Annual mean wage': 45870.0, 'Mean wage RSE': 2.0, 'state': 'PA'}\n",
      "{'_id': ObjectId('5e1cfff3aa46595943b50809'), 'Occupation code': 350000, 'Occupation title (click on the occupation title to view its profile)': 'Food Preparation and Serving Related Occupations', 'Level': 'major', 'Employment': 505080.0, 'Employment RSE': 0.6, 'Employment per 1,000 jobs': 86.372, 'Location quotient': '0.93', 'Median hourly wage': 10.34, 'Mean hourly wage': 11.73, 'Annual mean wage': 24400.0, 'Mean wage RSE': 0.5, 'state': 'PA'}\n",
      "{'_id': ObjectId('5e1cfff3aa46595943b5080a'), 'Occupation code': 370000, 'Occupation title (click on the occupation title to view its profile)': 'Building and Grounds Cleaning and Maintenance Occupations', 'Level': 'major', 'Employment': 168930.0, 'Employment RSE': 1.4, 'Employment per 1,000 jobs': 28.888, 'Location quotient': '0.95', 'Median hourly wage': 12.96, 'Mean hourly wage': 14.07, 'Annual mean wage': 29260.0, 'Mean wage RSE': 0.6, 'state': 'PA'}\n",
      "{'_id': ObjectId('5e1cfff3aa46595943b5080b'), 'Occupation code': 390000, 'Occupation title (click on the occupation title to view its profile)': 'Personal Care and Service Occupations', 'Level': 'major', 'Employment': 265740.0, 'Employment RSE': 1.4, 'Employment per 1,000 jobs': 45.443, 'Location quotient': '1.21', 'Median hourly wage': 11.49, 'Mean hourly wage': 12.65, 'Annual mean wage': 26320.0, 'Mean wage RSE': 0.6, 'state': 'PA'}\n",
      "{'_id': ObjectId('5e1cfff3aa46595943b5080c'), 'Occupation code': 410000, 'Occupation title (click on the occupation title to view its profile)': 'Sales and Related Occupations', 'Level': 'major', 'Employment': 553470.0, 'Employment RSE': 1.2, 'Employment per 1,000 jobs': 94.648, 'Location quotient': '0.94', 'Median hourly wage': 13.14, 'Mean hourly wage': 20.03, 'Annual mean wage': 41670.0, 'Mean wage RSE': 0.9, 'state': 'PA'}\n",
      "{'_id': ObjectId('5e1cfff3aa46595943b5080d'), 'Occupation code': 430000, 'Occupation title (click on the occupation title to view its profile)': 'Office and Administrative Support Occupations', 'Level': 'major', 'Employment': 928440.0, 'Employment RSE': 0.7, 'Employment per 1,000 jobs': 158.771, 'Location quotient': '1.05', 'Median hourly wage': 17.07, 'Mean hourly wage': 18.36, 'Annual mean wage': 38190.0, 'Mean wage RSE': 0.3, 'state': 'PA'}\n",
      "{'_id': ObjectId('5e1cfff3aa46595943b5080e'), 'Occupation code': 450000, 'Occupation title (click on the occupation title to view its profile)': 'Farming, Fishing, and Forestry Occupations', 'Level': 'major', 'Employment': 7200.0, 'Employment RSE': 7.6, 'Employment per 1,000 jobs': 1.232, 'Location quotient': '0.37', 'Median hourly wage': 14.59, 'Mean hourly wage': 15.96, 'Annual mean wage': 33200.0, 'Mean wage RSE': 2.1, 'state': 'PA'}\n",
      "{'_id': ObjectId('5e1cfff3aa46595943b5080f'), 'Occupation code': 470000, 'Occupation title (click on the occupation title to view its profile)': 'Construction and Extraction Occupations', 'Level': 'major', 'Employment': 221610.0, 'Employment RSE': 1.3, 'Employment per 1,000 jobs': 37.898, 'Location quotient': '0.92', 'Median hourly wage': 23.3, 'Mean hourly wage': 25.52, 'Annual mean wage': 53070.0, 'Mean wage RSE': 0.6, 'state': 'PA'}\n",
      "{'_id': ObjectId('5e1cfff3aa46595943b50810'), 'Occupation code': 490000, 'Occupation title (click on the occupation title to view its profile)': 'Installation, Maintenance, and Repair Occupations', 'Level': 'major', 'Employment': 237190.0, 'Employment RSE': 1.2, 'Employment per 1,000 jobs': 40.561, 'Location quotient': '1.04', 'Median hourly wage': 21.97, 'Mean hourly wage': 23.45, 'Annual mean wage': 48770.0, 'Mean wage RSE': 0.5, 'state': 'PA'}\n",
      "{'_id': ObjectId('5e1cfff3aa46595943b50811'), 'Occupation code': 510000, 'Occupation title (click on the occupation title to view its profile)': 'Production Occupations', 'Level': 'major', 'Employment': 377960.0, 'Employment RSE': 1.4, 'Employment per 1,000 jobs': 64.635, 'Location quotient': '1.03', 'Median hourly wage': 17.89, 'Mean hourly wage': 19.21, 'Annual mean wage': 39950.0, 'Mean wage RSE': 0.5, 'state': 'PA'}\n",
      "{'_id': ObjectId('5e1cfff3aa46595943b50812'), 'Occupation code': 530000, 'Occupation title (click on the occupation title to view its profile)': 'Transportation and Material Moving Occupations', 'Level': 'major', 'Employment': 463430.0, 'Employment RSE': 1.2, 'Employment per 1,000 jobs': 79.25, 'Location quotient': '1.12', 'Median hourly wage': 15.97, 'Mean hourly wage': 17.81, 'Annual mean wage': 37040.0, 'Mean wage RSE': 1.4, 'state': 'PA'}\n"
     ]
    }
   ],
   "source": [
    "for listing in listings:\n",
    "    print(listing)"
   ]
  },
  {
   "cell_type": "code",
   "execution_count": null,
   "metadata": {},
   "outputs": [],
   "source": []
  }
 ],
 "metadata": {
  "kernelspec": {
   "display_name": "Python 3",
   "language": "python",
   "name": "python3"
  },
  "language_info": {
   "codemirror_mode": {
    "name": "ipython",
    "version": 3
   },
   "file_extension": ".py",
   "mimetype": "text/x-python",
   "name": "python",
   "nbconvert_exporter": "python",
   "pygments_lexer": "ipython3",
   "version": "3.7.3"
  }
 },
 "nbformat": 4,
 "nbformat_minor": 2
}
